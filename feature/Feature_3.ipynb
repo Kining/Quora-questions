{
 "cells": [
  {
   "cell_type": "code",
   "execution_count": 1,
   "metadata": {
    "collapsed": true,
    "deletable": true,
    "editable": true
   },
   "outputs": [],
   "source": [
    "#导入需要的库\n",
    "import numpy as np\n",
    "import pandas as pd\n",
    "import timeit"
   ]
  },
  {
   "cell_type": "code",
   "execution_count": 2,
   "metadata": {
    "collapsed": true,
    "deletable": true,
    "editable": true
   },
   "outputs": [],
   "source": [
    "train_orig =  pd.read_csv('../data/train.csv', header=0)\n",
    "test_orig =  pd.read_csv('../data/test.csv', header=0)\n",
    "\n",
    "tic0=timeit.default_timer()\n",
    "df1 = train_orig[['question1']].copy()\n",
    "df2 = train_orig[['question2']].copy()\n",
    "df1_test = test_orig[['question1']].copy()\n",
    "df2_test = test_orig[['question2']].copy()"
   ]
  },
  {
   "cell_type": "code",
   "execution_count": 3,
   "metadata": {
    "collapsed": false,
    "deletable": true,
    "editable": true
   },
   "outputs": [
    {
     "name": "stdout",
     "output_type": "stream",
     "text": [
      "(808580, 1)\n",
      "(3154376, 1)\n",
      "(5500172, 1)\n",
      "(4780684, 1)\n"
     ]
    }
   ],
   "source": [
    "df2.rename(columns = {'question2':'question1'},inplace=True)\n",
    "df2_test.rename(columns = {'question2':'question1'},inplace=True)\n",
    "\n",
    "train_questions = df1.append(df2)\n",
    "print(train_questions.shape)\n",
    "train_questions = train_questions.append(df1_test)\n",
    "print(train_questions.shape)\n",
    "train_questions = train_questions.append(df2_test)\n",
    "print(train_questions.shape)\n",
    "#train_questions.drop_duplicates(subset = ['qid1'],inplace=True)\n",
    "train_questions.drop_duplicates(subset = ['question1'],inplace=True)\n",
    "print(train_questions.shape)"
   ]
  },
  {
   "cell_type": "code",
   "execution_count": 4,
   "metadata": {
    "collapsed": true,
    "deletable": true,
    "editable": true
   },
   "outputs": [],
   "source": [
    "train_questions.reset_index(inplace=True,drop=True)\n",
    "questions_dict = pd.Series(train_questions.index.values,index=train_questions.question1.values).to_dict()"
   ]
  },
  {
   "cell_type": "code",
   "execution_count": 5,
   "metadata": {
    "collapsed": true,
    "deletable": true,
    "editable": true
   },
   "outputs": [],
   "source": [
    "train_cp = train_orig.copy()\n",
    "test_cp = test_orig.copy()\n",
    "train_cp.drop(['qid1','qid2'],axis=1,inplace=True)\n",
    "\n",
    "test_cp['is_duplicate'] = -1\n",
    "test_cp.rename(columns={'test_id':'id'},inplace=True)\n",
    "comb = pd.concat([train_cp,test_cp])\n",
    "\n",
    "comb['q1_hash'] = comb['question1'].map(questions_dict)\n",
    "comb['q2_hash'] = comb['question2'].map(questions_dict)\n",
    "\n",
    "q1_vc = comb.q1_hash.value_counts().to_dict()#计算一个Series中各词出现的频率\n",
    "q2_vc = comb.q2_hash.value_counts().to_dict()"
   ]
  },
  {
   "cell_type": "code",
   "execution_count": 6,
   "metadata": {
    "collapsed": false,
    "deletable": true,
    "editable": true,
    "scrolled": true
   },
   "outputs": [
    {
     "data": {
      "text/html": [
       "<div>\n",
       "<table border=\"1\" class=\"dataframe\">\n",
       "  <thead>\n",
       "    <tr style=\"text-align: right;\">\n",
       "      <th></th>\n",
       "      <th>id</th>\n",
       "      <th>question1</th>\n",
       "      <th>question2</th>\n",
       "      <th>is_duplicate</th>\n",
       "      <th>q1_hash</th>\n",
       "      <th>q2_hash</th>\n",
       "    </tr>\n",
       "  </thead>\n",
       "  <tbody>\n",
       "    <tr>\n",
       "      <th>2758</th>\n",
       "      <td>2758</td>\n",
       "      <td>did akbar ever war against extrovert son jahan...</td>\n",
       "      <td>if akbhar was it because of anarkali</td>\n",
       "      <td>-1</td>\n",
       "      <td>538457</td>\n",
       "      <td>2679105</td>\n",
       "    </tr>\n",
       "  </tbody>\n",
       "</table>\n",
       "</div>"
      ],
      "text/plain": [
       "        id                                          question1  \\\n",
       "2758  2758  did akbar ever war against extrovert son jahan...   \n",
       "\n",
       "                                  question2  is_duplicate  q1_hash  q2_hash  \n",
       "2758  if akbhar was it because of anarkali             -1   538457  2679105  "
      ]
     },
     "execution_count": 6,
     "metadata": {},
     "output_type": "execute_result"
    }
   ],
   "source": [
    "comb[(comb.q1_hash==538457)]"
   ]
  },
  {
   "cell_type": "code",
   "execution_count": 9,
   "metadata": {
    "collapsed": true,
    "deletable": true,
    "editable": true
   },
   "outputs": [],
   "source": [
    "def try_apply_dict(x,dict_to_apply):\n",
    "    try:\n",
    "        return dict_to_apply[x]\n",
    "    except KeyError:\n",
    "        return 0\n",
    "comb['q1_freq'] = comb['q1_hash'].map(lambda x: try_apply_dict(x,q1_vc) + try_apply_dict(x,q2_vc))\n",
    "comb['q2_freq'] = comb['q2_hash'].map(lambda x: try_apply_dict(x,q1_vc) + try_apply_dict(x,q2_vc))\n",
    "\n",
    "train_comb = comb[comb['is_duplicate'] >= 0][['id','q1_hash','q2_hash','q1_freq','q2_freq','is_duplicate']]\n",
    "test_comb = comb[comb['is_duplicate'] < 0][['id','q1_hash','q2_hash','q1_freq','q2_freq']]"
   ]
  },
  {
   "cell_type": "code",
   "execution_count": 10,
   "metadata": {
    "collapsed": false,
    "deletable": true,
    "editable": true
   },
   "outputs": [
    {
     "name": "stdout",
     "output_type": "stream",
     "text": [
      "(404290, 6)\n",
      "(2345796, 5)\n"
     ]
    }
   ],
   "source": [
    "print(train_comb.shape)\n",
    "print(test_comb.shape)"
   ]
  },
  {
   "cell_type": "code",
   "execution_count": 11,
   "metadata": {
    "collapsed": false,
    "deletable": true,
    "editable": true
   },
   "outputs": [],
   "source": [
    "train_comb.to_csv('../train/train3.csv',index=None,encoding=\"utf-8\")\n",
    "test_comb.to_csv('../test/test3.csv',index=None,encoding=\"utf-8\")\n",
    "#comb.to_csv('../train/test3.csv',index=None,encoding=\"utf-8\")"
   ]
  },
  {
   "cell_type": "code",
   "execution_count": 12,
   "metadata": {
    "collapsed": false,
    "deletable": true,
    "editable": true
   },
   "outputs": [
    {
     "data": {
      "text/html": [
       "<div>\n",
       "<table border=\"1\" class=\"dataframe\">\n",
       "  <thead>\n",
       "    <tr style=\"text-align: right;\">\n",
       "      <th></th>\n",
       "      <th>id</th>\n",
       "      <th>q1_hash</th>\n",
       "      <th>q2_hash</th>\n",
       "      <th>q1_freq</th>\n",
       "      <th>q2_freq</th>\n",
       "      <th>is_duplicate</th>\n",
       "    </tr>\n",
       "  </thead>\n",
       "  <tbody>\n",
       "    <tr>\n",
       "      <th>0</th>\n",
       "      <td>0</td>\n",
       "      <td>0</td>\n",
       "      <td>289987</td>\n",
       "      <td>1</td>\n",
       "      <td>2</td>\n",
       "      <td>0</td>\n",
       "    </tr>\n",
       "    <tr>\n",
       "      <th>1</th>\n",
       "      <td>1</td>\n",
       "      <td>1</td>\n",
       "      <td>16731</td>\n",
       "      <td>8</td>\n",
       "      <td>3</td>\n",
       "      <td>0</td>\n",
       "    </tr>\n",
       "    <tr>\n",
       "      <th>2</th>\n",
       "      <td>2</td>\n",
       "      <td>2</td>\n",
       "      <td>289988</td>\n",
       "      <td>2</td>\n",
       "      <td>1</td>\n",
       "      <td>0</td>\n",
       "    </tr>\n",
       "    <tr>\n",
       "      <th>3</th>\n",
       "      <td>3</td>\n",
       "      <td>3</td>\n",
       "      <td>289989</td>\n",
       "      <td>1</td>\n",
       "      <td>1</td>\n",
       "      <td>0</td>\n",
       "    </tr>\n",
       "    <tr>\n",
       "      <th>4</th>\n",
       "      <td>4</td>\n",
       "      <td>4</td>\n",
       "      <td>289990</td>\n",
       "      <td>3</td>\n",
       "      <td>1</td>\n",
       "      <td>0</td>\n",
       "    </tr>\n",
       "  </tbody>\n",
       "</table>\n",
       "</div>"
      ],
      "text/plain": [
       "   id  q1_hash  q2_hash  q1_freq  q2_freq  is_duplicate\n",
       "0   0        0   289987        1        2             0\n",
       "1   1        1    16731        8        3             0\n",
       "2   2        2   289988        2        1             0\n",
       "3   3        3   289989        1        1             0\n",
       "4   4        4   289990        3        1             0"
      ]
     },
     "execution_count": 12,
     "metadata": {},
     "output_type": "execute_result"
    }
   ],
   "source": [
    "train_comb.head()"
   ]
  },
  {
   "cell_type": "code",
   "execution_count": 13,
   "metadata": {
    "collapsed": false,
    "deletable": true,
    "editable": true
   },
   "outputs": [
    {
     "data": {
      "text/html": [
       "<div>\n",
       "<table border=\"1\" class=\"dataframe\">\n",
       "  <thead>\n",
       "    <tr style=\"text-align: right;\">\n",
       "      <th></th>\n",
       "      <th>id</th>\n",
       "      <th>q1_hash</th>\n",
       "      <th>q2_hash</th>\n",
       "      <th>q1_freq</th>\n",
       "      <th>q2_freq</th>\n",
       "      <th>is_duplicate</th>\n",
       "    </tr>\n",
       "  </thead>\n",
       "  <tbody>\n",
       "    <tr>\n",
       "      <th>id</th>\n",
       "      <td>1.000000</td>\n",
       "      <td>0.691367</td>\n",
       "      <td>0.285360</td>\n",
       "      <td>-0.000673</td>\n",
       "      <td>-0.000632</td>\n",
       "      <td>-0.008784</td>\n",
       "    </tr>\n",
       "    <tr>\n",
       "      <th>q1_hash</th>\n",
       "      <td>0.691367</td>\n",
       "      <td>1.000000</td>\n",
       "      <td>0.491959</td>\n",
       "      <td>-0.285238</td>\n",
       "      <td>-0.189506</td>\n",
       "      <td>-0.207020</td>\n",
       "    </tr>\n",
       "    <tr>\n",
       "      <th>q2_hash</th>\n",
       "      <td>0.285360</td>\n",
       "      <td>0.491959</td>\n",
       "      <td>1.000000</td>\n",
       "      <td>-0.328662</td>\n",
       "      <td>-0.434609</td>\n",
       "      <td>-0.353183</td>\n",
       "    </tr>\n",
       "    <tr>\n",
       "      <th>q1_freq</th>\n",
       "      <td>-0.000673</td>\n",
       "      <td>-0.285238</td>\n",
       "      <td>-0.328662</td>\n",
       "      <td>1.000000</td>\n",
       "      <td>0.417006</td>\n",
       "      <td>0.243347</td>\n",
       "    </tr>\n",
       "    <tr>\n",
       "      <th>q2_freq</th>\n",
       "      <td>-0.000632</td>\n",
       "      <td>-0.189506</td>\n",
       "      <td>-0.434609</td>\n",
       "      <td>0.417006</td>\n",
       "      <td>1.000000</td>\n",
       "      <td>0.180834</td>\n",
       "    </tr>\n",
       "    <tr>\n",
       "      <th>is_duplicate</th>\n",
       "      <td>-0.008784</td>\n",
       "      <td>-0.207020</td>\n",
       "      <td>-0.353183</td>\n",
       "      <td>0.243347</td>\n",
       "      <td>0.180834</td>\n",
       "      <td>1.000000</td>\n",
       "    </tr>\n",
       "  </tbody>\n",
       "</table>\n",
       "</div>"
      ],
      "text/plain": [
       "                    id   q1_hash   q2_hash   q1_freq   q2_freq  is_duplicate\n",
       "id            1.000000  0.691367  0.285360 -0.000673 -0.000632     -0.008784\n",
       "q1_hash       0.691367  1.000000  0.491959 -0.285238 -0.189506     -0.207020\n",
       "q2_hash       0.285360  0.491959  1.000000 -0.328662 -0.434609     -0.353183\n",
       "q1_freq      -0.000673 -0.285238 -0.328662  1.000000  0.417006      0.243347\n",
       "q2_freq      -0.000632 -0.189506 -0.434609  0.417006  1.000000      0.180834\n",
       "is_duplicate -0.008784 -0.207020 -0.353183  0.243347  0.180834      1.000000"
      ]
     },
     "execution_count": 13,
     "metadata": {},
     "output_type": "execute_result"
    }
   ],
   "source": [
    "corr_mat = train_comb.corr()#关于相关系数的计算可以调用pearson方法或kendell方法或spearman方法，默认使用pearson方法。\n",
    "corr_mat.head(10)\n",
    "#more frequenct questions are more likely to be duplicates"
   ]
  }
 ],
 "metadata": {
  "anaconda-cloud": {},
  "kernelspec": {
   "display_name": "Python 3",
   "language": "python",
   "name": "python3"
  },
  "language_info": {
   "codemirror_mode": {
    "name": "ipython",
    "version": 3
   },
   "file_extension": ".py",
   "mimetype": "text/x-python",
   "name": "python",
   "nbconvert_exporter": "python",
   "pygments_lexer": "ipython3",
   "version": "3.5.2"
  }
 },
 "nbformat": 4,
 "nbformat_minor": 1
}

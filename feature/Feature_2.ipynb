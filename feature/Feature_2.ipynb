{
 "cells": [
  {
   "cell_type": "code",
   "execution_count": 1,
   "metadata": {
    "collapsed": false,
    "deletable": true,
    "editable": true
   },
   "outputs": [
    {
     "name": "stderr",
     "output_type": "stream",
     "text": [
      "d:\\python35\\lib\\site-packages\\sklearn\\cross_validation.py:44: DeprecationWarning: This module was deprecated in version 0.18 in favor of the model_selection module into which all the refactored classes and functions are moved. Also note that the interface of the new CV iterators are different from that of this module. This module will be removed in 0.20.\n",
      "  \"This module will be removed in 0.20.\", DeprecationWarning)\n"
     ]
    }
   ],
   "source": [
    "import numpy as np # linear algebra\n",
    "import pandas as pd # data processing, CSV file I/O (e.g. pd.read_csv)\n",
    "import matplotlib.pyplot as plt\n",
    "import seaborn as sns\n",
    "from nltk.corpus import stopwords\n",
    "from nltk import word_tokenize, ngrams \n",
    "from sklearn import ensemble\n",
    "from sklearn.model_selection import KFold\n",
    "from sklearn.metrics import log_loss\n",
    "import xgboost as xgb\n",
    "\n",
    "eng_stopwords = set(stopwords.words('english'))\n",
    "color = sns.color_palette()\n",
    "\n",
    "%matplotlib inline\n",
    "\n",
    "pd.options.mode.chained_assignment = None  # default='warn'"
   ]
  },
  {
   "cell_type": "code",
   "execution_count": 2,
   "metadata": {
    "collapsed": false,
    "deletable": true,
    "editable": true
   },
   "outputs": [
    {
     "name": "stdout",
     "output_type": "stream",
     "text": [
      "(404290, 6)\n",
      "(2345796, 3)\n"
     ]
    }
   ],
   "source": [
    "train_df = pd.read_csv(\"data/train.csv\")\n",
    "test_df = pd.read_csv(\"data/test.csv\")\n",
    "print(train_df.shape)\n",
    "print(test_df.shape)"
   ]
  },
  {
   "cell_type": "code",
   "execution_count": 3,
   "metadata": {
    "collapsed": false,
    "deletable": true,
    "editable": true
   },
   "outputs": [
    {
     "data": {
      "text/html": [
       "<div>\n",
       "<table border=\"1\" class=\"dataframe\">\n",
       "  <thead>\n",
       "    <tr style=\"text-align: right;\">\n",
       "      <th></th>\n",
       "      <th>id</th>\n",
       "      <th>qid1</th>\n",
       "      <th>qid2</th>\n",
       "      <th>question1</th>\n",
       "      <th>question2</th>\n",
       "      <th>is_duplicate</th>\n",
       "    </tr>\n",
       "  </thead>\n",
       "  <tbody>\n",
       "    <tr>\n",
       "      <th>0</th>\n",
       "      <td>0</td>\n",
       "      <td>1</td>\n",
       "      <td>2</td>\n",
       "      <td>what is the step by step guide to invest in sh...</td>\n",
       "      <td>what is the step by step guide to invest in sh...</td>\n",
       "      <td>0</td>\n",
       "    </tr>\n",
       "    <tr>\n",
       "      <th>1</th>\n",
       "      <td>1</td>\n",
       "      <td>3</td>\n",
       "      <td>4</td>\n",
       "      <td>what is the story of kohinoor koh - i - noor d...</td>\n",
       "      <td>what would happen if the indian government sto...</td>\n",
       "      <td>0</td>\n",
       "    </tr>\n",
       "    <tr>\n",
       "      <th>2</th>\n",
       "      <td>2</td>\n",
       "      <td>5</td>\n",
       "      <td>6</td>\n",
       "      <td>how can i increase the speed of my internet co...</td>\n",
       "      <td>how can internet speed be increased by hacking...</td>\n",
       "      <td>0</td>\n",
       "    </tr>\n",
       "    <tr>\n",
       "      <th>3</th>\n",
       "      <td>3</td>\n",
       "      <td>7</td>\n",
       "      <td>8</td>\n",
       "      <td>why am i mentally very lonely how can i solve it</td>\n",
       "      <td>find the remainder when math 23 ^ 24 math is d...</td>\n",
       "      <td>0</td>\n",
       "    </tr>\n",
       "    <tr>\n",
       "      <th>4</th>\n",
       "      <td>4</td>\n",
       "      <td>9</td>\n",
       "      <td>10</td>\n",
       "      <td>which one dissolve in water quikly sugar salt ...</td>\n",
       "      <td>which fish would survive in salt water</td>\n",
       "      <td>0</td>\n",
       "    </tr>\n",
       "  </tbody>\n",
       "</table>\n",
       "</div>"
      ],
      "text/plain": [
       "   id  qid1  qid2                                          question1  \\\n",
       "0   0     1     2  what is the step by step guide to invest in sh...   \n",
       "1   1     3     4  what is the story of kohinoor koh - i - noor d...   \n",
       "2   2     5     6  how can i increase the speed of my internet co...   \n",
       "3   3     7     8  why am i mentally very lonely how can i solve it    \n",
       "4   4     9    10  which one dissolve in water quikly sugar salt ...   \n",
       "\n",
       "                                           question2  is_duplicate  \n",
       "0  what is the step by step guide to invest in sh...             0  \n",
       "1  what would happen if the indian government sto...             0  \n",
       "2  how can internet speed be increased by hacking...             0  \n",
       "3  find the remainder when math 23 ^ 24 math is d...             0  \n",
       "4            which fish would survive in salt water              0  "
      ]
     },
     "execution_count": 3,
     "metadata": {},
     "output_type": "execute_result"
    }
   ],
   "source": [
    "train_df.head()"
   ]
  },
  {
   "cell_type": "markdown",
   "metadata": {
    "deletable": true,
    "editable": true
   },
   "source": [
    "**Data fields**\n",
    "\n",
    "id - the id of a training set question pair\n",
    "\n",
    "qid1, qid2 - unique ids of each question (only available in train.csv)\n",
    "\n",
    "question1, question2 - the full text of each question\n",
    "\n",
    "is_duplicate - the target variable, set to 1 if question1 and question2 have essentially the same meaning, and 0 otherwise."
   ]
  },
  {
   "cell_type": "code",
   "execution_count": 4,
   "metadata": {
    "collapsed": false,
    "deletable": true,
    "editable": true
   },
   "outputs": [
    {
     "data": {
      "text/html": [
       "<div>\n",
       "<table border=\"1\" class=\"dataframe\">\n",
       "  <thead>\n",
       "    <tr style=\"text-align: right;\">\n",
       "      <th></th>\n",
       "      <th>test_id</th>\n",
       "      <th>question1</th>\n",
       "      <th>question2</th>\n",
       "    </tr>\n",
       "  </thead>\n",
       "  <tbody>\n",
       "    <tr>\n",
       "      <th>0</th>\n",
       "      <td>0</td>\n",
       "      <td>how does the surface pro himself 4 compare wit...</td>\n",
       "      <td>why did microsoft choose core m3 and not core ...</td>\n",
       "    </tr>\n",
       "    <tr>\n",
       "      <th>1</th>\n",
       "      <td>1</td>\n",
       "      <td>should i have a hair transplant at age 24 how ...</td>\n",
       "      <td>how much cost does hair transplant require</td>\n",
       "    </tr>\n",
       "    <tr>\n",
       "      <th>2</th>\n",
       "      <td>2</td>\n",
       "      <td>what but is the best way to send money from ch...</td>\n",
       "      <td>what you send money to china</td>\n",
       "    </tr>\n",
       "    <tr>\n",
       "      <th>3</th>\n",
       "      <td>3</td>\n",
       "      <td>which food not emulsifiers</td>\n",
       "      <td>what foods fibre</td>\n",
       "    </tr>\n",
       "    <tr>\n",
       "      <th>4</th>\n",
       "      <td>4</td>\n",
       "      <td>how aberystwyth start reading</td>\n",
       "      <td>how their can i start reading</td>\n",
       "    </tr>\n",
       "  </tbody>\n",
       "</table>\n",
       "</div>"
      ],
      "text/plain": [
       "   test_id                                          question1  \\\n",
       "0        0  how does the surface pro himself 4 compare wit...   \n",
       "1        1  should i have a hair transplant at age 24 how ...   \n",
       "2        2  what but is the best way to send money from ch...   \n",
       "3        3                        which food not emulsifiers    \n",
       "4        4                     how aberystwyth start reading    \n",
       "\n",
       "                                           question2  \n",
       "0  why did microsoft choose core m3 and not core ...  \n",
       "1        how much cost does hair transplant require   \n",
       "2                      what you send money to china   \n",
       "3                                  what foods fibre   \n",
       "4                     how their can i start reading   "
      ]
     },
     "execution_count": 4,
     "metadata": {},
     "output_type": "execute_result"
    }
   ],
   "source": [
    "test_df.head()"
   ]
  },
  {
   "cell_type": "code",
   "execution_count": 6,
   "metadata": {
    "collapsed": false,
    "deletable": true,
    "editable": true
   },
   "outputs": [
    {
     "data": {
      "text/plain": [
       "0    0.630802\n",
       "1    0.369198\n",
       "Name: is_duplicate, dtype: float64"
      ]
     },
     "execution_count": 6,
     "metadata": {},
     "output_type": "execute_result"
    }
   ],
   "source": [
    "is_dup / is_dup.sum()"
   ]
  },
  {
   "cell_type": "code",
   "execution_count": 7,
   "metadata": {
    "collapsed": true,
    "deletable": true,
    "editable": true
   },
   "outputs": [],
   "source": [
    "all_ques_df = pd.DataFrame(pd.concat([train_df['question1'], train_df['question2']]))\n",
    "all_ques_df.columns = [\"questions\"]\n",
    "\n",
    "all_ques_df[\"num_of_words\"] = all_ques_df[\"questions\"].apply(lambda x : len(str(x).split()))"
   ]
  },
  {
   "cell_type": "code",
   "execution_count": 9,
   "metadata": {
    "collapsed": false,
    "deletable": true,
    "editable": true
   },
   "outputs": [
    {
     "data": {
      "image/png": "[encoded data removed]",
      "text/plain": [
       "<matplotlib.figure.Figure at 0xb147748>"
      ]
     },
     "metadata": {},
     "output_type": "display_data"
    }
   ],
   "source": [
    "all_ques_df[\"num_of_chars\"] = all_ques_df[\"questions\"].apply(lambda x : len(str(x)))\n",
    "cnt_srs = all_ques_df['num_of_chars'].value_counts()\n",
    "\n",
    "plt.figure(figsize=(50,8))\n",
    "sns.barplot(cnt_srs.index, cnt_srs.values, alpha=0.8, color=color[3])\n",
    "plt.ylabel('Number of Occurrences', fontsize=12)\n",
    "plt.xlabel('Number of characters in the question', fontsize=12)\n",
    "plt.xticks(rotation='vertical')\n",
    "plt.show()      \n",
    "\n",
    "del all_ques_df"
   ]
  },
  {
   "cell_type": "markdown",
   "metadata": {},
   "source": [
    "## 几元模型特征的提取"
   ]
  },
  {
   "cell_type": "code",
   "execution_count": 11,
   "metadata": {
    "collapsed": true,
    "deletable": true,
    "editable": true
   },
   "outputs": [],
   "source": [
    "def get_unigrams(que):\n",
    "    return [word for word in word_tokenize(que.lower()) if word not in eng_stopwords]#word_tokenize:对句子进行分词\n",
    "\n",
    "def get_common_unigrams(row):\n",
    "    return len( set(row[\"unigrams_ques1\"]).intersection(set(row[\"unigrams_ques2\"])) )#取交集\n",
    "\n",
    "def get_common_unigram_ratio(row):\n",
    "    return float(row[\"unigrams_common_count\"]) / max(len( set(row[\"unigrams_ques1\"]).union(set(row[\"unigrams_ques2\"])) ),1)\n",
    "\n",
    "train_df[\"unigrams_ques1\"] = train_df['question1'].apply(lambda x: get_unigrams(str(x)))\n",
    "train_df[\"unigrams_ques2\"] = train_df['question2'].apply(lambda x: get_unigrams(str(x)))\n",
    "train_df[\"unigrams_common_count\"] = train_df.apply(lambda row: get_common_unigrams(row),axis=1)\n",
    "train_df[\"unigrams_common_ratio\"] = train_df.apply(lambda row: get_common_unigram_ratio(row), axis=1)"
   ]
  },
  {
   "cell_type": "code",
   "execution_count": 16,
   "metadata": {
    "collapsed": true,
    "deletable": true,
    "editable": true
   },
   "outputs": [],
   "source": [
    "def get_bigrams(que):\n",
    "    return [i for i in ngrams(que, 2)]#组合分词\n",
    "\n",
    "def get_common_bigrams(row):\n",
    "    return len( set(row[\"bigrams_ques1\"]).intersection(set(row[\"bigrams_ques2\"])) )\n",
    "\n",
    "def get_common_bigram_ratio(row):\n",
    "    return float(row[\"bigrams_common_count\"]) / max(len( set(row[\"bigrams_ques1\"]).union(set(row[\"bigrams_ques2\"])) ),1)\n",
    "\n",
    "train_df[\"bigrams_ques1\"] = train_df[\"unigrams_ques1\"].apply(lambda x: get_bigrams(x))\n",
    "train_df[\"bigrams_ques2\"] = train_df[\"unigrams_ques2\"].apply(lambda x: get_bigrams(x)) \n",
    "train_df[\"bigrams_common_count\"] = train_df.apply(lambda row: get_common_bigrams(row),axis=1)\n",
    "train_df[\"bigrams_common_ratio\"] = train_df.apply(lambda row: get_common_bigram_ratio(row), axis=1)"
   ]
  },
  {
   "cell_type": "code",
   "execution_count": 21,
   "metadata": {
    "collapsed": true,
    "deletable": true,
    "editable": true
   },
   "outputs": [],
   "source": [
    "def get_unigrams(que):\n",
    "    return [word for word in word_tokenize(que.lower()) if word not in eng_stopwords]#word_tokenize:对句子进行分词\n",
    "\n",
    "def get_common_unigrams(row):\n",
    "    return len( set(row[\"unigrams_ques1\"]).intersection(set(row[\"unigrams_ques2\"])) )#取交集\n",
    "\n",
    "def get_common_unigram_ratio(row):\n",
    "    return float(row[\"unigrams_common_count\"]) / max(len( set(row[\"unigrams_ques1\"]).union(set(row[\"unigrams_ques2\"])) ),1)\n",
    "\n",
    "train_df[\"unigrams_ques1\"] = train_df['question1'].apply(lambda x: get_unigrams(str(x)))\n",
    "train_df[\"unigrams_ques2\"] = train_df['question2'].apply(lambda x: get_unigrams(str(x)))\n",
    "train_df[\"unigrams_common_count\"] = train_df.apply(lambda row: get_common_unigrams(row),axis=1)\n",
    "train_df[\"unigrams_common_ratio\"] = train_df.apply(lambda row: get_common_unigram_ratio(row), axis=1)"
   ]
  },
  {
   "cell_type": "code",
   "execution_count": 22,
   "metadata": {
    "collapsed": true,
    "deletable": true,
    "editable": true
   },
   "outputs": [],
   "source": [
    "def feature_extraction(row):\n",
    "    que1 = str(row['question1'])\n",
    "    que2 = str(row['question2'])\n",
    "    out_list = []\n",
    "    # get unigram features #\n",
    "    unigrams_que1 = [word for word in word_tokenize(que1.lower()) if word not in eng_stopwords]\n",
    "    unigrams_que2 = [word for word in word_tokenize(que2.lower()) if word not in eng_stopwords]\n",
    "    #unigrams_que1 = [word for word in que1.lower().split() if word not in eng_stopwords]\n",
    "    #unigrams_que2 = [word for word in que2.lower().split() if word not in eng_stopwords]\n",
    "    common_unigrams_len = len(set(unigrams_que1).intersection(set(unigrams_que2)))\n",
    "    common_unigrams_ratio = float(common_unigrams_len) / max(len(set(unigrams_que1).union(set(unigrams_que2))),1)\n",
    "    out_list.extend([common_unigrams_len, common_unigrams_ratio])\n",
    "\n",
    "    # get bigram features #\n",
    "    bigrams_que1 = [i for i in ngrams(unigrams_que1, 2)]\n",
    "    bigrams_que2 = [i for i in ngrams(unigrams_que2, 2)]\n",
    "    common_bigrams_len = len(set(bigrams_que1).intersection(set(bigrams_que2)))\n",
    "    common_bigrams_ratio = float(common_bigrams_len) / max(len(set(bigrams_que1).union(set(bigrams_que2))),1)\n",
    "    out_list.extend([common_bigrams_len, common_bigrams_ratio])\n",
    "\n",
    "    # get trigram features #\n",
    "    trigrams_que1 = [i for i in ngrams(unigrams_que1, 3)]\n",
    "    trigrams_que2 = [i for i in ngrams(unigrams_que2, 3)]\n",
    "    common_trigrams_len = len(set(trigrams_que1).intersection(set(trigrams_que2)))\n",
    "    common_trigrams_ratio = float(common_trigrams_len) / max(len(set(trigrams_que1).union(set(trigrams_que2))),1)\n",
    "    out_list.extend([common_trigrams_len, common_trigrams_ratio])\n",
    "    return out_list"
   ]
  },
  {
   "cell_type": "code",
   "execution_count": 23,
   "metadata": {
    "collapsed": false,
    "deletable": true,
    "editable": true
   },
   "outputs": [
    {
     "data": {
      "text/plain": [
       "array([[ 5.        ,  0.83333333,  5.        ,  0.83333333,  4.        ,\n",
       "         0.8       ],\n",
       "       [ 5.        ,  0.41666667,  5.        ,  0.41666667,  4.        ,\n",
       "         0.36363636],\n",
       "       [ 2.        ,  0.22222222,  0.        ,  0.        ,  0.        ,\n",
       "         0.        ],\n",
       "       ..., \n",
       "       [ 1.        ,  0.5       ,  0.        ,  0.        ,  0.        ,\n",
       "         0.        ],\n",
       "       [ 0.        ,  0.        ,  0.        ,  0.        ,  0.        ,\n",
       "         0.        ],\n",
       "       [ 3.        ,  1.        ,  2.        ,  1.        ,  1.        ,\n",
       "         1.        ]])"
      ]
     },
     "execution_count": 23,
     "metadata": {},
     "output_type": "execute_result"
    }
   ],
   "source": [
    "train_X = np.vstack( np.array(train_df.apply(lambda row: feature_extraction(row), axis=1)) ) \n",
    "test_X = np.vstack( np.array(test_df.apply(lambda row: feature_extraction(row), axis=1)) )\n",
    "train_y = np.array(train_df[\"is_duplicate\"])\n",
    "\n",
    "train_X"
   ]
  },
  {
   "cell_type": "code",
   "execution_count": 25,
   "metadata": {
    "collapsed": false,
    "deletable": true,
    "editable": true
   },
   "outputs": [
    {
     "name": "stdout",
     "output_type": "stream",
     "text": [
      "train: (404290, 7)\n",
      "train_df: (404290, 14)\n",
      "test: (2345796, 7)\n",
      "test_df: (2345796, 3)\n"
     ]
    },
    {
     "data": {
      "text/html": [
       "<div>\n",
       "<table border=\"1\" class=\"dataframe\">\n",
       "  <thead>\n",
       "    <tr style=\"text-align: right;\">\n",
       "      <th></th>\n",
       "      <th>common_unigrams_len</th>\n",
       "      <th>common_unigrams_ratio</th>\n",
       "      <th>common_bigrams_len</th>\n",
       "      <th>common_bigrams_ratio</th>\n",
       "      <th>common_trigrams_len</th>\n",
       "      <th>common_trigrams_ratio</th>\n",
       "      <th>id</th>\n",
       "    </tr>\n",
       "  </thead>\n",
       "  <tbody>\n",
       "    <tr>\n",
       "      <th>0</th>\n",
       "      <td>5.0</td>\n",
       "      <td>0.833333</td>\n",
       "      <td>5.0</td>\n",
       "      <td>0.833333</td>\n",
       "      <td>4.0</td>\n",
       "      <td>0.800000</td>\n",
       "      <td>0</td>\n",
       "    </tr>\n",
       "    <tr>\n",
       "      <th>1</th>\n",
       "      <td>5.0</td>\n",
       "      <td>0.416667</td>\n",
       "      <td>5.0</td>\n",
       "      <td>0.416667</td>\n",
       "      <td>4.0</td>\n",
       "      <td>0.363636</td>\n",
       "      <td>1</td>\n",
       "    </tr>\n",
       "    <tr>\n",
       "      <th>2</th>\n",
       "      <td>2.0</td>\n",
       "      <td>0.222222</td>\n",
       "      <td>0.0</td>\n",
       "      <td>0.000000</td>\n",
       "      <td>0.0</td>\n",
       "      <td>0.000000</td>\n",
       "      <td>2</td>\n",
       "    </tr>\n",
       "    <tr>\n",
       "      <th>3</th>\n",
       "      <td>0.0</td>\n",
       "      <td>0.000000</td>\n",
       "      <td>0.0</td>\n",
       "      <td>0.000000</td>\n",
       "      <td>0.0</td>\n",
       "      <td>0.000000</td>\n",
       "      <td>3</td>\n",
       "    </tr>\n",
       "    <tr>\n",
       "      <th>4</th>\n",
       "      <td>2.0</td>\n",
       "      <td>0.153846</td>\n",
       "      <td>0.0</td>\n",
       "      <td>0.000000</td>\n",
       "      <td>0.0</td>\n",
       "      <td>0.000000</td>\n",
       "      <td>4</td>\n",
       "    </tr>\n",
       "  </tbody>\n",
       "</table>\n",
       "</div>"
      ],
      "text/plain": [
       "   common_unigrams_len  common_unigrams_ratio  common_bigrams_len  \\\n",
       "0                  5.0               0.833333                 5.0   \n",
       "1                  5.0               0.416667                 5.0   \n",
       "2                  2.0               0.222222                 0.0   \n",
       "3                  0.0               0.000000                 0.0   \n",
       "4                  2.0               0.153846                 0.0   \n",
       "\n",
       "   common_bigrams_ratio  common_trigrams_len  common_trigrams_ratio  id  \n",
       "0              0.833333                  4.0               0.800000   0  \n",
       "1              0.416667                  4.0               0.363636   1  \n",
       "2              0.000000                  0.0               0.000000   2  \n",
       "3              0.000000                  0.0               0.000000   3  \n",
       "4              0.000000                  0.0               0.000000   4  "
      ]
     },
     "execution_count": 25,
     "metadata": {},
     "output_type": "execute_result"
    }
   ],
   "source": [
    "from pandas import DataFrame\n",
    "train = DataFrame(train_X)\n",
    "test = DataFrame(test_X)\n",
    "#train.columns={\"common_unigrams_len\",\"common_unigrams_ratio\",\"common_bigrams_len\",\"common_bigrams_ratio\",\"common_trigrams_len\",\"common_trigrams_ratio\"}\n",
    "#test.columns={\"common_unigrams_len\",\"common_unigrams_ratio\",\"common_bigrams_len\",\"common_bigrams_ratio\",\"common_trigrams_len\",\"common_trigrams_ratio\"}\n",
    "\n",
    "\n",
    "train['id']=train_df.id\n",
    "#train['question1']=train_df.question1\n",
    "#train['question2']=train_df.question2\n",
    "\n",
    "test['test_id']=test_df.test_id\n",
    "#test['question1']=test_df.question1\n",
    "#test['question2']=test_df.question2\n",
    "print(\"train:\",train.shape)\n",
    "print(\"train_df:\",train_df.shape)\n",
    "print(\"test:\",test.shape)\n",
    "print(\"test_df:\",test_df.shape)\n",
    "\n",
    "train=train.rename(index=str, columns={ 0: \"common_unigrams_len\",1: \"common_unigrams_ratio\",2: \"common_bigrams_len\",\n",
    "                                       3: \"common_bigrams_ratio\",4: \"common_trigrams_len\",5: \"common_trigrams_ratio\"})\n",
    "test=test.rename(index=str,columns={ 0: \"common_unigrams_len\",1: \"common_unigrams_ratio\",2: \"common_bigrams_len\",\n",
    "                                       3: \"common_bigrams_ratio\",4: \"common_trigrams_len\",5: \"common_trigrams_ratio\"})\n",
    "train.head()"
   ]
  },
  {
   "cell_type": "code",
   "execution_count": 26,
   "metadata": {
    "collapsed": false,
    "deletable": true,
    "editable": true,
    "scrolled": true
   },
   "outputs": [],
   "source": [
    "#保存该EDA的特征\n",
    "train.to_csv('../train/train2.csv',index=None,encoding=\"utf-8\")\n",
    "test.to_csv('../test/test2.csv',index=None,encoding=\"utf-8\")"
   ]
  },
  {
   "cell_type": "code",
   "execution_count": null,
   "metadata": {
    "collapsed": true,
    "deletable": true,
    "editable": true
   },
   "outputs": [],
   "source": []
  }
 ],
 "metadata": {
  "anaconda-cloud": {},
  "kernelspec": {
   "display_name": "Python 3",
   "language": "python",
   "name": "python3"
  },
  "language_info": {
   "codemirror_mode": {
    "name": "ipython",
    "version": 3
   },
   "file_extension": ".py",
   "mimetype": "text/x-python",
   "name": "python",
   "nbconvert_exporter": "python",
   "pygments_lexer": "ipython3",
   "version": "3.5.2"
  }
 },
 "nbformat": 4,
 "nbformat_minor": 0
}
